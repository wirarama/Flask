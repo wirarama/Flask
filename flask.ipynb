{
 "cells": [
  {
   "cell_type": "code",
   "execution_count": null,
   "id": "6f164d96",
   "metadata": {},
   "outputs": [],
   "source": [
    "!pip install flask"
   ]
  },
  {
   "cell_type": "code",
   "execution_count": null,
   "id": "1fe8675f",
   "metadata": {},
   "outputs": [],
   "source": [
    "!export FLASK_APP=hello.py"
   ]
  },
  {
   "cell_type": "code",
   "execution_count": null,
   "id": "f93da4f9",
   "metadata": {},
   "outputs": [],
   "source": [
    "!/usr/local/anaconda3/bin/flask run"
   ]
  },
  {
   "cell_type": "code",
   "execution_count": 1,
   "id": "b4965987",
   "metadata": {},
   "outputs": [
    {
     "name": "stdout",
     "output_type": "stream",
     "text": [
      " * Serving Flask app \"01hello\" (lazy loading)\n",
      " * Environment: production\n",
      "\u001b[31m   WARNING: This is a development server. Do not use it in a production deployment.\u001b[0m\n",
      "\u001b[2m   Use a production WSGI server instead.\u001b[0m\n",
      " * Debug mode: off\n",
      " * Running on http://127.0.0.1:5000/ (Press CTRL+C to quit)\n",
      "^C\n"
     ]
    }
   ],
   "source": [
    "!~/opt/anaconda3/bin/python 01hello.py"
   ]
  },
  {
   "cell_type": "code",
   "execution_count": null,
   "id": "273af946-ee07-4ce0-b299-ffaa64688819",
   "metadata": {},
   "outputs": [],
   "source": [
    "!~/opt/anaconda3/bin/pip install Flask-Bootstrap"
   ]
  },
  {
   "cell_type": "code",
   "execution_count": null,
   "id": "f1c0c8f3-d7b4-41f4-90e8-21b8c14a50f9",
   "metadata": {},
   "outputs": [],
   "source": [
    "!~/opt/anaconda3/bin/pip install Flask-MQTT"
   ]
  },
  {
   "cell_type": "code",
   "execution_count": null,
   "id": "39bc0b60-0971-4a3f-966d-50b1cf606324",
   "metadata": {},
   "outputs": [],
   "source": [
    "!~/opt/anaconda3/bin/pip install Flask-WTF"
   ]
  },
  {
   "cell_type": "code",
   "execution_count": 3,
   "id": "5552ddf1-4bce-4f16-bfaa-3e6d23865a90",
   "metadata": {},
   "outputs": [
    {
     "name": "stdout",
     "output_type": "stream",
     "text": [
      " * Serving Flask app \"flaskbs\" (lazy loading)\n",
      " * Environment: production\n",
      "\u001b[31m   WARNING: This is a development server. Do not use it in a production deployment.\u001b[0m\n",
      "\u001b[2m   Use a production WSGI server instead.\u001b[0m\n",
      " * Debug mode: off\n",
      " * Running on http://127.0.0.1:5000/ (Press CTRL+C to quit)\n",
      "127.0.0.1 - - [10/Nov/2022 08:16:02] \"GET / HTTP/1.1\" 200 -\n",
      "127.0.0.1 - - [10/Nov/2022 08:16:37] \"GET / HTTP/1.1\" 200 -\n",
      "127.0.0.1 - - [10/Nov/2022 08:17:12] \"GET / HTTP/1.1\" 200 -\n",
      "^C\n"
     ]
    }
   ],
   "source": [
    "!~/opt/anaconda3/bin/python flaskbs.py"
   ]
  },
  {
   "cell_type": "code",
   "execution_count": null,
   "id": "608082f9-f6bd-4c5f-9b67-8c79598e57d1",
   "metadata": {},
   "outputs": [],
   "source": [
    "!~/opt/anaconda3/bin/python flaskwtf.py"
   ]
  },
  {
   "cell_type": "code",
   "execution_count": null,
   "id": "cb63e215-4e9b-4b12-8e15-11d2e5592997",
   "metadata": {},
   "outputs": [],
   "source": [
    "!~/opt/anaconda3/bin/python flaskbswtf.py"
   ]
  },
  {
   "cell_type": "code",
   "execution_count": 10,
   "id": "2339f5c6-b005-4f39-92b6-2c7bd78d0c50",
   "metadata": {},
   "outputs": [
    {
     "name": "stdout",
     "output_type": "stream",
     "text": [
      " * Serving Flask app \"flaskmqttsimple\" (lazy loading)\n",
      " * Environment: production\n",
      "\u001b[31m   WARNING: This is a development server. Do not use it in a production deployment.\u001b[0m\n",
      "\u001b[2m   Use a production WSGI server instead.\u001b[0m\n",
      " * Debug mode: off\n",
      " * Running on http://127.0.0.1:5000/ (Press CTRL+C to quit)\n",
      "127.0.0.1 - - [18/Nov/2022 10:25:16] \"GET / HTTP/1.1\" 200 -\n",
      "['1', '2', '3', '4']\n",
      "1011\n",
      "['checked', '', 'checked', 'checked']\n",
      "127.0.0.1 - - [18/Nov/2022 10:25:18] \"GET /relay HTTP/1.1\" 200 -\n",
      "['1', '2', '3', '4']\n",
      "1011\n",
      "['checked', '', 'checked', 'checked']\n",
      "127.0.0.1 - - [18/Nov/2022 10:25:23] \"POST /relay HTTP/1.1\" 200 -\n",
      "relay:1001\n",
      "['1', '2', '3', '4']\n",
      "1001\n",
      "['checked', '', '', 'checked']\n",
      "127.0.0.1 - - [18/Nov/2022 10:25:29] \"POST /relay HTTP/1.1\" 200 -\n",
      "relay:1101\n",
      "['1', '2', '3', '4']\n",
      "1101\n",
      "['checked', 'checked', '', 'checked']\n",
      "127.0.0.1 - - [18/Nov/2022 10:25:39] \"POST /relay HTTP/1.1\" 200 -\n",
      "relay:1011\n",
      "127.0.0.1 - - [18/Nov/2022 10:25:43] \"GET /visual HTTP/1.1\" 200 -\n",
      "127.0.0.1 - - [18/Nov/2022 10:25:43] \"GET /static/visual.png?dummy=149 HTTP/1.1\" 200 -\n",
      "['1', '2', '3', '4']\n",
      "1011\n",
      "['checked', '', 'checked', 'checked']\n",
      "127.0.0.1 - - [18/Nov/2022 10:25:44] \"GET /relay HTTP/1.1\" 200 -\n",
      "^C\n"
     ]
    }
   ],
   "source": [
    "!~/opt/anaconda3/bin/python flaskmqttsimple.py"
   ]
  },
  {
   "cell_type": "code",
   "execution_count": null,
   "id": "0e8f71ef-149a-4a2f-b91f-dce40c950073",
   "metadata": {},
   "outputs": [],
   "source": [
    "!~/opt/anaconda3/bin/python flaskmqtt.py"
   ]
  },
  {
   "cell_type": "code",
   "execution_count": null,
   "id": "ca9ede13-a387-4164-a25f-9a9c697fc6de",
   "metadata": {},
   "outputs": [],
   "source": [
    "!/usr/local/sbin/mosquitto -c /usr/local/etc/mosquitto/mosquitto.conf"
   ]
  },
  {
   "cell_type": "code",
   "execution_count": null,
   "id": "94396bab-1d37-485f-90a8-777f9c53ffb2",
   "metadata": {},
   "outputs": [],
   "source": [
    "!~/opt/anaconda3/bin/pip install eventlet"
   ]
  },
  {
   "cell_type": "code",
   "execution_count": null,
   "id": "d199810e-15ac-4eff-8654-f51c0d6ab66e",
   "metadata": {},
   "outputs": [],
   "source": [
    "!~/opt/anaconda3/bin/pip install flask-socketio"
   ]
  }
 ],
 "metadata": {
  "kernelspec": {
   "display_name": "Python 3 (ipykernel)",
   "language": "python",
   "name": "python3"
  },
  "language_info": {
   "codemirror_mode": {
    "name": "ipython",
    "version": 3
   },
   "file_extension": ".py",
   "mimetype": "text/x-python",
   "name": "python",
   "nbconvert_exporter": "python",
   "pygments_lexer": "ipython3",
   "version": "3.9.12"
  }
 },
 "nbformat": 4,
 "nbformat_minor": 5
}
